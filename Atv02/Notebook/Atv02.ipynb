{
 "cells": [
  {
   "cell_type": "markdown",
   "id": "8e367eef-f4bc-47e0-9f66-d3f481477ba3",
   "metadata": {},
   "source": [
    "# Atv02"
   ]
  },
  {
   "cell_type": "markdown",
   "id": "d9656571-a4ec-45a6-aae5-150e30b79680",
   "metadata": {},
   "source": [
    "Exibir a mensagem “Informe um inteiro: “, deixando o cursor na mesma linha"
   ]
  },
  {
   "cell_type": "code",
   "execution_count": 1,
   "id": "0501763a-8be5-423c-8bd4-6fd99bce483a",
   "metadata": {},
   "outputs": [
    {
     "name": "stdout",
     "output_type": "stream",
     "text": [
      "Informe um inteiro: "
     ]
    },
    {
     "data": {
      "text/plain": [
       "null"
      ]
     },
     "execution_count": 1,
     "metadata": {},
     "output_type": "execute_result"
    }
   ],
   "source": [
    "System.out.print(\"Informe um inteiro: \");"
   ]
  },
  {
   "cell_type": "markdown",
   "id": "7de60167-1226-42ca-be9c-5907cbad6eb0",
   "metadata": {},
   "source": [
    "Atribuir o produto das variáveis b e c para a variável a"
   ]
  },
  {
   "cell_type": "code",
   "execution_count": 2,
   "id": "fc797b46-957d-4576-91bf-21d692630cf6",
   "metadata": {},
   "outputs": [
    {
     "name": "stdout",
     "output_type": "stream",
     "text": [
      "Digite a quantidade de dias trabalhados: \n",
      "25\n",
      "Digite o valor pago por dia: \n",
      "75\n"
     ]
    },
    {
     "data": {
      "text/plain": [
       "null"
      ]
     },
     "execution_count": 2,
     "metadata": {},
     "output_type": "execute_result"
    }
   ],
   "source": [
    "import java.util.Scanner;\n",
    "int b, c, a = 0; // B) a vai receber os valores de b e c. A começando com valor zero. Considere b como dias trabalhados e c como valor pago por dia.\n",
    "        Scanner s = new Scanner(System.in);\n",
    "        System.out.println(\"Digite a quantidade de dias trabalhados: \");\n",
    "        b = s.nextInt();\n",
    "        System.out.println(\"Digite o valor pago por dia: \");\n",
    "        c = s.nextInt();\n",
    "        a = b * c; //A recebe multiplicação de B e C.\n",
    "//programa executa um cálculo simples de folha de pagamento\n"
   ]
  },
  {
   "cell_type": "markdown",
   "id": "d19e3bb2-7c43-47d8-a839-40850540c807",
   "metadata": {},
   "source": [
    "Demonstrar a execução do cálculo e utilizar um comentário para afirmar que é um programa de exemplo de folha de pagamento."
   ]
  },
  {
   "cell_type": "code",
   "execution_count": 4,
   "id": "2b083026-31ef-436d-90cf-5337ecf5dacf",
   "metadata": {},
   "outputs": [
    {
     "name": "stdout",
     "output_type": "stream",
     "text": [
      "Digite a quantidade de dias trabalhados: \n",
      "20\n",
      "Digite o valor pago por dia: \n",
      "75\n",
      "O valor total do salário é: 1500\n"
     ]
    },
    {
     "data": {
      "text/plain": [
       "null"
      ]
     },
     "execution_count": 4,
     "metadata": {},
     "output_type": "execute_result"
    }
   ],
   "source": [
    "import java.util.Scanner;\n",
    "int b, c, a = 0;\n",
    "Scanner s = new Scanner(System.in);\n",
    "System.out.println(\"Digite a quantidade de dias trabalhados: \");\n",
    "b = s.nextInt();\n",
    "System.out.println(\"Digite o valor pago por dia: \");\n",
    "c = s.nextInt();\n",
    "a = b * c;\n",
    "System.out.println(\"O valor total do salário é: \" + a);"
   ]
  },
  {
   "cell_type": "code",
   "execution_count": null,
   "id": "3feea99a",
   "metadata": {},
   "outputs": [],
   "source": []
  }
 ],
 "metadata": {
  "kernelspec": {
   "display_name": "Java",
   "language": "java",
   "name": "java"
  },
  "language_info": {
   "codemirror_mode": "text/x-java",
   "file_extension": ".java",
   "mimetype": "",
   "name": "Java",
   "nbconverter_exporter": "",
   "version": "1.8.0_121"
  },
  "toc": {
   "base_numbering": 1,
   "nav_menu": {},
   "number_sections": false,
   "sideBar": false,
   "skip_h1_title": false,
   "title_cell": "Table of Contents",
   "title_sidebar": "Contents",
   "toc_cell": false,
   "toc_position": {},
   "toc_section_display": false,
   "toc_window_display": false
  }
 },
 "nbformat": 4,
 "nbformat_minor": 5
}
