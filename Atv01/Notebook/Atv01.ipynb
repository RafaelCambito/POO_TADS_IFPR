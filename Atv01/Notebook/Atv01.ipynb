{
 "cells": [
  {
   "cell_type": "markdown",
   "id": "2f43b1b3-44a5-4b52-81b9-1b57ace64201",
   "metadata": {},
   "source": [
    "Apresente a soma de todos os argumentos inteiros ou reais recebidos"
   ]
  },
  {
   "cell_type": "code",
   "execution_count": null,
   "id": "94fd28df",
   "metadata": {},
   "outputs": [
    {
     "name": "stdout",
     "output_type": "stream",
     "text": [
      "Digite o primeiro valor: \n",
      "10\n",
      "Digite o segundo valor: \n",
      "12.5\n",
      "Digite o terceiro valor: \n",
      "22\n",
      "Digite o quarto e último valor: \n",
      "33.33\n",
      "A soma dos valores informados é: 77.83\n"
     ]
    },
    {
     "data": {
      "text/plain": [
       "null"
      ]
     },
     "execution_count": 15,
     "metadata": {},
     "output_type": "execute_result"
    }
   ],
   "source": [
    "import java.util.Scanner;\n",
    "double valor1, valor2, valor3, valor4, soma = 0;\n",
    "Scanner s = new Scanner(System.in);\n",
    "System.out.println(\"Digite o primeiro valor: \");\n",
    "valor1 = s.nextDouble();\n",
    "System.out.println(\"Digite o segundo valor: \");\n",
    "valor2 = s.nextDouble();\n",
    "System.out.println(\"Digite o terceiro valor: \");\n",
    "valor3 = s.nextDouble();\n",
    "System.out.println(\"Digite o quarto e último valor: \");\n",
    "valor4 = s.nextDouble();\n",
    "soma = valor1 + valor2 + valor3 + valor4;\n",
    "System.out.println(\"A soma dos valores informados é: \" + soma);"
   ]
  },
  {
   "cell_type": "code",
   "execution_count": null,
   "id": "05e6abae",
   "metadata": {},
   "outputs": [],
   "source": []
  }
 ],
 "metadata": {
  "kernelspec": {
   "display_name": "Java",
   "language": "java",
   "name": "java"
  },
  "language_info": {
   "codemirror_mode": "text/x-java",
   "file_extension": ".java",
   "mimetype": "",
   "name": "Java",
   "nbconverter_exporter": "",
   "version": "1.8.0_121"
  },
  "toc": {
   "base_numbering": 1,
   "nav_menu": {},
   "number_sections": false,
   "sideBar": false,
   "skip_h1_title": false,
   "title_cell": "Table of Contents",
   "title_sidebar": "Contents",
   "toc_cell": false,
   "toc_position": {},
   "toc_section_display": false,
   "toc_window_display": false
  }
 },
 "nbformat": 4,
 "nbformat_minor": 5
}
