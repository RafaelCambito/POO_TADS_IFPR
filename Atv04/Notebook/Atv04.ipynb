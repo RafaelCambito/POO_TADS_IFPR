{
 "cells": [
  {
   "cell_type": "markdown",
   "id": "a2c2cfcc-91c6-4294-9054-6fd3845a2514",
   "metadata": {},
   "source": [
    "# Atv04"
   ]
  },
  {
   "cell_type": "markdown",
   "id": "e12a6d48-a97f-4071-b48f-38c437269052",
   "metadata": {},
   "source": [
    "1 - Declare uma variável do tipo real chamada gastosJaneiro e inicialize-a com o valor gasto no mês de janeiro, declare também as variáveis gastosFevereiro e gastosMarco, inicializando-as com os respectivos gastos, utilize uma linha para cada declaração;\n",
    "\n",
    "2 - Crie uma variável chamada gastosTrimestre e inicialize-a com a soma das outras variáveis."
   ]
  },
  {
   "cell_type": "code",
   "execution_count": 1,
   "id": "f05cef05-3fa4-467d-bb08-72f6c35b6a02",
   "metadata": {},
   "outputs": [
    {
     "data": {
      "text/plain": [
       "null"
      ]
     },
     "execution_count": 1,
     "metadata": {},
     "output_type": "execute_result"
    }
   ],
   "source": [
    "double gastosJaneiro = 30000.00;\n",
    "        double gastosFevereiro = 33030.77;\n",
    "        double gastosMarco = 23899.01;\n",
    "        double gastosTrimestre = gastosJaneiro + gastosFevereiro + gastosMarco;"
   ]
  },
  {
   "cell_type": "markdown",
   "id": "531541b9-b47f-4f2a-b4eb-41737ebd92f4",
   "metadata": {},
   "source": [
    "Exiba a variável gastosTrimestre"
   ]
  },
  {
   "cell_type": "code",
   "execution_count": 2,
   "id": "8803de69-7acd-47a6-9b25-2e56013e1219",
   "metadata": {},
   "outputs": [
    {
     "name": "stdout",
     "output_type": "stream",
     "text": [
      "Total de gastos no trimestre = R$ 86929.78\n"
     ]
    },
    {
     "data": {
      "text/plain": [
       "null"
      ]
     },
     "execution_count": 2,
     "metadata": {},
     "output_type": "execute_result"
    }
   ],
   "source": [
    "double gastosJaneiro = 30000.00;\n",
    "        double gastosFevereiro = 33030.77;\n",
    "        double gastosMarco = 23899.01;\n",
    "        double gastosTrimestre = gastosJaneiro + gastosFevereiro + gastosMarco;\n",
    "        System.out.println(\"Total de gastos no trimestre = R$ \" + gastosTrimestre);"
   ]
  },
  {
   "cell_type": "code",
   "execution_count": null,
   "id": "1afb8a27",
   "metadata": {},
   "outputs": [],
   "source": []
  }
 ],
 "metadata": {
  "kernelspec": {
   "display_name": "Java",
   "language": "java",
   "name": "java"
  },
  "language_info": {
   "codemirror_mode": "text/x-java",
   "file_extension": ".java",
   "mimetype": "",
   "name": "Java",
   "nbconverter_exporter": "",
   "version": "1.8.0_121"
  },
  "toc": {
   "base_numbering": 1,
   "nav_menu": {},
   "number_sections": false,
   "sideBar": false,
   "skip_h1_title": false,
   "title_cell": "Table of Contents",
   "title_sidebar": "Contents",
   "toc_cell": false,
   "toc_position": {},
   "toc_section_display": false,
   "toc_window_display": false
  }
 },
 "nbformat": 4,
 "nbformat_minor": 5
}
