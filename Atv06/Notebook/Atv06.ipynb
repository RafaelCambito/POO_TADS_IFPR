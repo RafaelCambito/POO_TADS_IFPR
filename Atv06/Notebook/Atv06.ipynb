{
 "cells": [
  {
   "cell_type": "markdown",
   "id": "68af471b-2729-42db-900e-3455f8c3e760",
   "metadata": {},
   "source": [
    "## Atv06"
   ]
  },
  {
   "cell_type": "markdown",
   "id": "37d78c78-a46d-4c42-97b9-b985c0834b1c",
   "metadata": {},
   "source": [
    "Dados os valores de um depósito fixo mensal e um montante desejado, exiba abaixo o trecho do código em java para determinar quantos meses serão necessários para acumular o montante desejado, considerando juros mensais de 0,5%."
   ]
  },
  {
   "cell_type": "code",
   "execution_count": null,
   "id": "6cf7a206-6753-47ee-a7d7-927ec7dfe53f",
   "metadata": {},
   "outputs": [
    {
     "name": "stdout",
     "output_type": "stream",
     "text": [
      "Informe o valor que deseja depositar mensalmente: \n",
      "610\n",
      "Agora informe o valor total do montante desejado: \n",
      "120000\n",
      "Para chegar ao valor de R$ 120000.0 será preciso 137 meses\n"
     ]
    },
    {
     "data": {
      "text/plain": [
       "null"
      ]
     },
     "execution_count": 5,
     "metadata": {},
     "output_type": "execute_result"
    }
   ],
   "source": [
    "import java.util.Scanner;\n",
    "        Scanner scanner = new Scanner(System.in);        \n",
    "        System.out.println(\"Informe o valor que deseja depositar mensalmente: \");\n",
    "        float depositoMensal = scanner.nextFloat();        \n",
    "        System.out.println(\"Agora informe o valor total do montante desejado: \");\n",
    "        float montanteDesejado = scanner.nextFloat();        \n",
    "        float saldoAtual = 0;\n",
    "        int meses = 0;        \n",
    "        while (saldoAtual < montanteDesejado) {\n",
    "            saldoAtual += depositoMensal;\n",
    "            saldoAtual += saldoAtual * 0.005;\n",
    "            meses++;\n",
    "        }        \n",
    "        System.out.println(\"Para chegar ao valor de R$ \" + montanteDesejado + \" será preciso \" + meses + \" meses\");        \n",
    "        scanner.close();"
   ]
  },
  {
   "cell_type": "code",
   "execution_count": null,
   "id": "f0df4371",
   "metadata": {},
   "outputs": [],
   "source": []
  },
  {
   "cell_type": "code",
   "execution_count": null,
   "id": "d8c5a8f7",
   "metadata": {},
   "outputs": [],
   "source": []
  }
 ],
 "metadata": {
  "kernelspec": {
   "display_name": "Java",
   "language": "java",
   "name": "java"
  },
  "language_info": {
   "codemirror_mode": "text/x-java",
   "file_extension": ".java",
   "mimetype": "",
   "name": "Java",
   "nbconverter_exporter": "",
   "version": "1.8.0_121"
  },
  "toc": {
   "base_numbering": 1,
   "nav_menu": {},
   "number_sections": false,
   "sideBar": false,
   "skip_h1_title": false,
   "title_cell": "Table of Contents",
   "title_sidebar": "Contents",
   "toc_cell": false,
   "toc_position": {},
   "toc_section_display": false,
   "toc_window_display": false
  }
 },
 "nbformat": 4,
 "nbformat_minor": 5
}
